{
 "cells": [
  {
   "cell_type": "code",
   "execution_count": 15,
   "id": "f8279162-5078-4cb9-a95c-ac402db4e26d",
   "metadata": {},
   "outputs": [],
   "source": [
    "import os\n",
    "import numpy as np\n",
    "import matplotlib.pyplot as plt\n",
    "from tqdm import tqdm\n",
    "from sklearn.preprocessing import LabelEncoder\n",
    "from sklearn.model_selection import train_test_split\n",
    "import tensorflow as tf\n",
    "from tensorflow.keras.preprocessing.image import load_img, img_to_array, ImageDataGenerator\n",
    "from tensorflow.keras.models import Sequential\n",
    "from tensorflow.keras.layers import Conv2D, MaxPooling2D, Flatten, Dense, Dropout\n"
   ]
  },
  {
   "cell_type": "code",
   "execution_count": 29,
   "id": "a3e698e2-4491-4dcc-8d4c-7af32cf35977",
   "metadata": {},
   "outputs": [],
   "source": [
    "def preprocess_images(folder_path, target_size=(128, 128), augment=False):\n",
    "    images = []\n",
    "    labels = []\n",
    "    \n",
    "    \n",
    "    class_name = os.path.basename(folder_path)\n",
    "    \n",
    "    for filename in tqdm(os.listdir(folder_path)):\n",
    "        img_path = os.path.join(folder_path, filename)\n",
    "        if os.path.isfile(img_path):\n",
    "            try:\n",
    "               \n",
    "                img = load_img(img_path, target_size=target_size)\n",
    "                \n",
    "                img_array = img_to_array(img)\n",
    "               \n",
    "                img_array /= 255.0\n",
    "                # Ajouter l'image et le label correspondant aux listes\n",
    "                images.append(img_array)\n",
    "                labels.append(class_name)\n",
    "            except Exception as e:\n",
    "                print(f\"Erreur lors du traitement de {img_path}: {str(e)}\")\n",
    "    \n",
    "    images = np.array(images)\n",
    "    \n",
    "    \n",
    "    label_encoder = LabelEncoder()\n",
    "    labels = label_encoder.fit_transform(labels)\n",
    "    \n",
    "    \n"
   ]
  },
  {
   "cell_type": "code",
   "execution_count": 1,
   "id": "33d6fbb1-809e-4764-9a55-ea373d147e4e",
   "metadata": {},
   "outputs": [
    {
     "ename": "NameError",
     "evalue": "name 'preprocess_images' is not defined",
     "output_type": "error",
     "traceback": [
      "\u001b[1;31m---------------------------------------------------------------------------\u001b[0m",
      "\u001b[1;31mNameError\u001b[0m                                 Traceback (most recent call last)",
      "Cell \u001b[1;32mIn[1], line 6\u001b[0m\n\u001b[0;32m      3\u001b[0m uninfected_folder \u001b[38;5;241m=\u001b[39m \u001b[38;5;124mr\u001b[39m\u001b[38;5;124m'\u001b[39m\u001b[38;5;124mC:\u001b[39m\u001b[38;5;124m\\\u001b[39m\u001b[38;5;124mUsers\u001b[39m\u001b[38;5;124m\\\u001b[39m\u001b[38;5;124mesper\u001b[39m\u001b[38;5;124m\\\u001b[39m\u001b[38;5;124mDocuments\u001b[39m\u001b[38;5;124m\\\u001b[39m\u001b[38;5;124mmd4\u001b[39m\u001b[38;5;124m\\\u001b[39m\u001b[38;5;124mclassification\u001b[39m\u001b[38;5;124m\\\u001b[39m\u001b[38;5;124mmalaria_hematie_dataset\u001b[39m\u001b[38;5;124m\\\u001b[39m\u001b[38;5;124mmalaria_hematie_dataset\u001b[39m\u001b[38;5;124m\\\u001b[39m\u001b[38;5;124muninfected\u001b[39m\u001b[38;5;124m'\u001b[39m\n\u001b[0;32m      5\u001b[0m \u001b[38;5;66;03m# traitement\u001b[39;00m\n\u001b[1;32m----> 6\u001b[0m parasitized_images, parasitized_labels \u001b[38;5;241m=\u001b[39m \u001b[43mpreprocess_images\u001b[49m(parasitized_folder, augment\u001b[38;5;241m=\u001b[39m\u001b[38;5;28;01mTrue\u001b[39;00m)\n\u001b[0;32m      7\u001b[0m uninfected_images, uninfected_labels \u001b[38;5;241m=\u001b[39m preprocess_images(uninfected_folder, augment\u001b[38;5;241m=\u001b[39m\u001b[38;5;28;01mTrue\u001b[39;00m)\n\u001b[0;32m      9\u001b[0m \u001b[38;5;66;03m#  les images et les labels\u001b[39;00m\n",
      "\u001b[1;31mNameError\u001b[0m: name 'preprocess_images' is not defined"
     ]
    }
   ],
   "source": [
    "#le chemin des images\n",
    "parasitized_folder = r'C:\\Users\\esper\\Documents\\md4\\classification\\malaria_hematie_dataset\\malaria_hematie_dataset\\parasitizedd'\n",
    "uninfected_folder = r'C:\\Users\\esper\\Documents\\md4\\classification\\malaria_hematie_dataset\\malaria_hematie_dataset\\uninfected'\n",
    "\n",
    "# traitement\n",
    "parasitized_images, parasitized_labels = preprocess_images(parasitized_folder, augment=True)\n",
    "uninfected_images, uninfected_labels = preprocess_images(uninfected_folder, augment=True)\n",
    "\n",
    "#  les images et les labels\n",
    "images = np.concatenate((parasitized_images, uninfected_images), axis=0)\n",
    "labels = np.concatenate((parasitized_labels, uninfected_labels), axis=0)\n",
    "\n"
   ]
  },
  {
   "cell_type": "code",
   "execution_count": 24,
   "id": "132157a2-f895-4535-8330-80568eb8b674",
   "metadata": {},
   "outputs": [],
   "source": [
    "# Définition du modele  \n",
    "model = Sequential([\n",
    "    Conv2D(32, (3, 3), activation='relu', input_shape=(128, 128, 3)),\n",
    "    MaxPooling2D((2, 2)),\n",
    "    Conv2D(64, (3, 3), activation='relu'),\n",
    "    MaxPooling2D((2, 2)),\n",
    "    Conv2D(128, (3, 3), activation='relu'),\n",
    "    MaxPooling2D((2, 2)),\n",
    "    Flatten(),\n",
    "    Dense(128, activation='relu'),\n",
    "    Dropout(0.5),\n",
    "    Dense(1, activation='sigmoid')\n",
    "])\n",
    "\n",
    "model.compile(optimizer='adam', loss='binary_crossentropy', metrics=['accuracy'])\n",
    "\n",
    "\n",
    "\n"
   ]
  },
  {
   "cell_type": "code",
   "execution_count": null,
   "id": "72714d52-a68b-4b54-baa9-e1951f40cafc",
   "metadata": {},
   "outputs": [],
   "source": []
  }
 ],
 "metadata": {
  "kernelspec": {
   "display_name": "Python 3 (ipykernel)",
   "language": "python",
   "name": "python3"
  },
  "language_info": {
   "codemirror_mode": {
    "name": "ipython",
    "version": 3
   },
   "file_extension": ".py",
   "mimetype": "text/x-python",
   "name": "python",
   "nbconvert_exporter": "python",
   "pygments_lexer": "ipython3",
   "version": "3.12.0"
  }
 },
 "nbformat": 4,
 "nbformat_minor": 5
}
